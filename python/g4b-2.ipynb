{
 "cells": [
  {
   "cell_type": "code",
   "execution_count": 1,
   "id": "255bf7e1-4de0-4b44-a187-f0931fb33696",
   "metadata": {},
   "outputs": [],
   "source": [
    "import numpy as np\n",
    "import sounddevice as sd\n",
    "import soundfile as sf\n"
   ]
  },
  {
   "cell_type": "code",
   "execution_count": 2,
   "id": "5e4dbd7a-5178-45a5-a86e-e392387bf1ff",
   "metadata": {},
   "outputs": [],
   "source": [
    "# song = AudioSegment.from_mp3(\"\")\n",
    "\n",
    "filename = '/Users/home/Documents/Max 9/Projects/GSOTTgenB1/media/07 Big Bottom.mp3'\n",
    "# Extract data and sampling rate from file\n",
    "data, fs = sf.read(filename, dtype='float32')  \n",
    "sd.play(data[0:48000], fs)\n",
    "status = sd.wait()  # Wait until file is done playing"
   ]
  },
  {
   "cell_type": "code",
   "execution_count": 4,
   "id": "5b86343c-410d-4a55-829e-4888741d3a83",
   "metadata": {
    "editable": true,
    "slideshow": {
     "slide_type": ""
    },
    "tags": []
   },
   "outputs": [],
   "source": [
    "import operators"
   ]
  },
  {
   "cell_type": "code",
   "execution_count": null,
   "id": "5c674be6-a157-4327-829c-3662980555f8",
   "metadata": {},
   "outputs": [],
   "source": []
  },
  {
   "cell_type": "code",
   "execution_count": null,
   "id": "88fcd200-48ac-4dad-a078-dcf9571df376",
   "metadata": {
    "editable": true,
    "slideshow": {
     "slide_type": ""
    },
    "tags": []
   },
   "outputs": [],
   "source": []
  }
 ],
 "metadata": {
  "kernelspec": {
   "display_name": "Python 3 (ipykernel)",
   "language": "python",
   "name": "python3"
  },
  "language_info": {
   "codemirror_mode": {
    "name": "ipython",
    "version": 3
   },
   "file_extension": ".py",
   "mimetype": "text/x-python",
   "name": "python",
   "nbconvert_exporter": "python",
   "pygments_lexer": "ipython3",
   "version": "3.13.0"
  }
 },
 "nbformat": 4,
 "nbformat_minor": 5
}
